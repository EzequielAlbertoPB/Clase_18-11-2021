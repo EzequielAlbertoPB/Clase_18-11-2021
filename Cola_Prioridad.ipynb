{
  "nbformat": 4,
  "nbformat_minor": 0,
  "metadata": {
    "colab": {
      "name": "Cola_Prioridad.ipynb",
      "provenance": []
    },
    "kernelspec": {
      "name": "python3",
      "display_name": "Python 3"
    },
    "language_info": {
      "name": "python"
    }
  },
  "cells": [
    {
      "cell_type": "code",
      "metadata": {
        "id": "e9HCfClCO4KY"
      },
      "source": [
        "class Queue:\n",
        "    def __init__( self):\n",
        "        self.data = []\n",
        "\n",
        "    def is_empty( self ):\n",
        "        return len( self.data ) == 0\n",
        "\n",
        "    def length( self ):\n",
        "        return len( self.data)\n",
        "    \n",
        "    def enqueue( self  , value ):\n",
        "        self.data.append( value )\n",
        "\n",
        "    def dequeue( self ):\n",
        "        return self.data.pop(0)\n",
        "\n",
        "    def to_string( self ):\n",
        "        for elem in self.data:\n",
        "            print(f\"|{ elem }| <-- \" , end=\"\" )\n",
        "        print(\"\")"
      ],
      "execution_count": 17,
      "outputs": []
    },
    {
      "cell_type": "code",
      "metadata": {
        "id": "ces1JmRbD9bq"
      },
      "source": [
        "class BoundedPriorityQueue:\n",
        "  \n",
        "  def __init__( self , niveles ):\n",
        "    self.__data = [ Queue() for x in range(niveles) ]\n",
        "    #self.__data = Array(niveles)\n",
        "    #self.__data.clear( Queue() )\n",
        "    self.__size = 0\n",
        "\n",
        "  def is_empty( self ):\n",
        "    return self.__size == 0\n",
        "\n",
        "  def length( self ):\n",
        "    return self.__size\n",
        "\n",
        "  def enqueue( self , prioridad , elem ):\n",
        "    if prioridad < len( self.__data ) \\\n",
        "      and prioridad >= 0:\n",
        "      self.__data[ prioridad ].enqueue( elem )\n",
        "      self.__size += 1\n",
        "\n",
        "  def dequeue( self ):\n",
        "    nivel = 0\n",
        "    while self.__data[ nivel ].is_empty() \\\n",
        "        and nivel < self.length():\n",
        "      nivel += 1\n",
        "\n",
        "    if nivel >= self.length():\n",
        "      print(\"Cola esta vacia\")\n",
        "    else:\n",
        "      return self.__data[ nivel ].dequeue()\n",
        "\n",
        "  def to_string( self ):\n",
        "    prioridad = 0\n",
        "    for cola in self.__data:\n",
        "      print(f\"Prioridad: {prioridad} ->\" , end=\"\")\n",
        "      cola.to_string()\n",
        "      prioridad +=1"
      ],
      "execution_count": 22,
      "outputs": []
    },
    {
      "cell_type": "code",
      "metadata": {
        "colab": {
          "base_uri": "https://localhost:8080/"
        },
        "id": "0Q-BWh5oLJls",
        "outputId": "74821cb4-b7d1-4da5-eee6-6c42b5bca0fa"
      },
      "source": [
        "salvavidas = BoundedPriorityQueue( 7 )\n",
        "\n",
        "salvavidas.enqueue( 4 , \"Maestre\" )\n",
        "salvavidas.enqueue( 1 , \"Niños\" )\n",
        "salvavidas.enqueue( 4 , \"Mecanico\" )\n",
        "salvavidas.enqueue( 3 , \"Mujeres\" )\n",
        "salvavidas.enqueue( 2 , \"Tercer Edad\" )\n",
        "salvavidas.enqueue( 1 , \"Niñas\" )\n",
        "salvavidas.enqueue( 3 , \"Hombres\" )\n",
        "salvavidas.enqueue( 4 , \"Vigia\" )\n",
        "salvavidas.enqueue( 5 , \"Capitan\" )\n",
        "salvavidas.enqueue( 4 , \"Timonel\" )\n",
        "salvavidas.to_string()\n",
        "\n",
        "print(\"\")\n",
        "sig = salvavidas.dequeue()\n",
        "print(f\"Subiendo { sig } al bote salvavidas!!\")\n",
        "salvavidas.to_string()"
      ],
      "execution_count": 29,
      "outputs": [
        {
          "output_type": "stream",
          "name": "stdout",
          "text": [
            "Prioridad: 0 ->\n",
            "Prioridad: 1 ->|Niños| <-- |Niñas| <-- \n",
            "Prioridad: 2 ->|Tercer Edad| <-- \n",
            "Prioridad: 3 ->|Mujeres| <-- |Hombres| <-- \n",
            "Prioridad: 4 ->|Maestre| <-- |Mecanico| <-- |Vigia| <-- |Timonel| <-- \n",
            "Prioridad: 5 ->|Capitan| <-- \n",
            "Prioridad: 6 ->\n",
            "\n",
            "Subiendo Niños al bote salvavidas!!\n",
            "Prioridad: 0 ->\n",
            "Prioridad: 1 ->|Niñas| <-- \n",
            "Prioridad: 2 ->|Tercer Edad| <-- \n",
            "Prioridad: 3 ->|Mujeres| <-- |Hombres| <-- \n",
            "Prioridad: 4 ->|Maestre| <-- |Mecanico| <-- |Vigia| <-- |Timonel| <-- \n",
            "Prioridad: 5 ->|Capitan| <-- \n",
            "Prioridad: 6 ->\n"
          ]
        }
      ]
    },
    {
      "cell_type": "markdown",
      "metadata": {
        "id": "kYsmUxKLSBGT"
      },
      "source": [
        "#Implementacion de las colas de prioridad sin acotamientos"
      ]
    },
    {
      "cell_type": "code",
      "metadata": {
        "id": "xMMyaOYnSJTe"
      },
      "source": [
        "class PriorityQueue:\n",
        "  def __init__( self ):\n",
        "    self.__data = []\n",
        "    self.__size = 0\n",
        "\n",
        "  def is_empty( self ):\n",
        "    return self.__size == 0\n",
        "\n",
        "  def length( self ):\n",
        "    return self.__size\n",
        "\n",
        "  def enqueue(self , prioridad , elem ):\n",
        "        existe = False\n",
        "        indice = 0\n",
        "        for index in range(len(self.__data)):\n",
        "            if self.__data[index][ \"prioridad\" ] == prioridad:\n",
        "                existe = True\n",
        "                indice = index\n",
        "        \n",
        "        if existe:\n",
        "            self.__data[indice][\"cola\"].enqueue(elem)\n",
        "        else:\n",
        "            self.__data.append( {\"prioridad\":prioridad , \"cola\": Queue() } )\n",
        "            self.__data[-1][\"cola\"].enqueue(elem)\n",
        "\n",
        "  def to_string( self ):\n",
        "        for cola in self.__data:\n",
        "            cola[\"cola\"].to_string()"
      ],
      "execution_count": 42,
      "outputs": []
    },
    {
      "cell_type": "markdown",
      "metadata": {
        "id": "uc0tgWBeX2Gh"
      },
      "source": [
        ""
      ]
    },
    {
      "cell_type": "code",
      "metadata": {
        "colab": {
          "base_uri": "https://localhost:8080/"
        },
        "id": "aUpN6AwcUlYf",
        "outputId": "f518d134-a0a4-4756-a68c-acd175d4726d"
      },
      "source": [
        "cp = PriorityQueue()\n",
        "cp.enqueue( 1 , \"niñas\" )\n",
        "cp.enqueue( 2 , \"niños\" )\n",
        "cp.enqueue( 2 , \"Profesores\" )\n",
        "cp.to_string()"
      ],
      "execution_count": 43,
      "outputs": [
        {
          "output_type": "stream",
          "name": "stdout",
          "text": [
            "|niñas| <-- \n",
            "|niños| <-- |Profesores| <-- \n"
          ]
        }
      ]
    }
  ]
}